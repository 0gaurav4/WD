{
 "cells": [
  {
   "cell_type": "markdown",
   "metadata": {},
   "source": [
    "### Internet\n",
    "\n",
    "[https://en.wikipedia.org/wiki/Internet]\n",
    "\n",
    "Submarine Map Cable \n",
    "[https://www.submarinemap.com/cable/]\n",
    "\n",
    "### Protocol\n",
    "\n",
    "[https://www.iana.org/assignments/protocol-numbers/protocol-numbers.xhtml]\n",
    "\n",
    "\n",
    "### Server\n",
    "\n",
    "[https://en.wikipedia.org/wiki/Server]\n",
    "\n"
   ]
  },
  {
   "cell_type": "markdown",
   "metadata": {},
   "source": []
  }
 ],
 "metadata": {
  "language_info": {
   "name": "python"
  }
 },
 "nbformat": 4,
 "nbformat_minor": 2
}
