{
 "cells": [
  {
   "cell_type": "markdown",
   "metadata": {},
   "source": [
    "### Internet\n",
    "\n",
    "[https://en.wikipedia.org/wiki/Internet]\n",
    "\n",
    "Submarine Map Cable \n",
    "[https://www.submarinemap.com/cable/]\n",
    "\n",
    "### Protocol\n",
    "\n",
    "[https://www.iana.org/assignments/protocol-numbers/protocol-numbers.xhtml]\n",
    "\n",
    "\n",
    "### Server\n",
    "\n",
    "[https://en.wikipedia.org/wiki/Server]\n",
    "\n",
    "\n",
    "### Draw favicon.ico\n",
    "\n",
    "[http://onlinefavicon.com/#google_vignette]\n"
   ]
  },
  {
   "cell_type": "markdown",
   "metadata": {},
   "source": [
    "### Some useful shortcuts :\n",
    "```\n",
    "1. control space ~~for suggession \n",
    "2. shift alt down arrow ~~for copy\n",
    "3. shift alt f ~~for format\n",
    "4. control enter ~~for new line\n",
    "5. select word and control D ~~for multiple selection of same word\n",
    "6. control shift r ~~for hard reload\n",
    "```"
   ]
  },
  {
   "cell_type": "markdown",
   "metadata": {},
   "source": [
    "### HTML Basic Syntax\n",
    "``` \n",
    "element = \n",
    "<opening tag \n",
    "attribute=\"value\" \n",
    "global_atribute*= property1:\"value1; property2:\"value2;\" \n",
    "only_attribute\n",
    "custom_attribute = \"value\"\n",
    "> \n",
    "...This is some written text.. \n",
    "</closing tag> \n",
    "```"
   ]
  },
  {
   "cell_type": "markdown",
   "metadata": {},
   "source": []
  }
 ],
 "metadata": {
  "language_info": {
   "name": "python"
  }
 },
 "nbformat": 4,
 "nbformat_minor": 2
}
